{
 "cells": [
  {
   "cell_type": "markdown",
   "id": "8f5d25fd",
   "metadata": {},
   "source": [
    "## Analyzing my custom Berkeley housing projects dataset"
   ]
  },
  {
   "cell_type": "markdown",
   "id": "294e50a3",
   "metadata": {},
   "source": [
    "James Wilde\n",
    "\n",
    "6/27/25"
   ]
  },
  {
   "cell_type": "code",
   "execution_count": 1,
   "id": "340b7f46",
   "metadata": {},
   "outputs": [],
   "source": [
    "import pandas as pd\n",
    "import re\n",
    "import numpy as np\n",
    "import matplotlib.pyplot as plt"
   ]
  },
  {
   "cell_type": "code",
   "execution_count": 2,
   "id": "a650589c",
   "metadata": {},
   "outputs": [],
   "source": [
    "# For this analysis, we can convert some values into null\n",
    "df = pd.read_csv(\"Downtown Berkeley Housing Projects - Projects.csv\", \n",
    "    na_values=[\"Unknown\", \"None listed\", \"Not yet approved\", \"Not completed\"])\n"
   ]
  },
  {
   "cell_type": "code",
   "execution_count": 3,
   "id": "9232cc85",
   "metadata": {},
   "outputs": [
    {
     "data": {
      "text/html": [
       "<div>\n",
       "<style scoped>\n",
       "    .dataframe tbody tr th:only-of-type {\n",
       "        vertical-align: middle;\n",
       "    }\n",
       "\n",
       "    .dataframe tbody tr th {\n",
       "        vertical-align: top;\n",
       "    }\n",
       "\n",
       "    .dataframe thead th {\n",
       "        text-align: right;\n",
       "    }\n",
       "</style>\n",
       "<table border=\"1\" class=\"dataframe\">\n",
       "  <thead>\n",
       "    <tr style=\"text-align: right;\">\n",
       "      <th></th>\n",
       "      <th>Name</th>\n",
       "      <th>Address</th>\n",
       "      <th>Required Demolition</th>\n",
       "      <th>Stories</th>\n",
       "      <th>Total Units</th>\n",
       "      <th>Below Market Rate Units</th>\n",
       "      <th>Year City Approved</th>\n",
       "      <th>Year Building Completed</th>\n",
       "      <th>Notes</th>\n",
       "    </tr>\n",
       "  </thead>\n",
       "  <tbody>\n",
       "    <tr>\n",
       "      <th>0</th>\n",
       "      <td>2344 Fulton</td>\n",
       "      <td>2344 Fulton St, Berkeley, CA 94704</td>\n",
       "      <td>NaN</td>\n",
       "      <td>NaN</td>\n",
       "      <td>18</td>\n",
       "      <td>NaN</td>\n",
       "      <td>NaN</td>\n",
       "      <td>NaN</td>\n",
       "      <td>Pre-application request under review.</td>\n",
       "    </tr>\n",
       "    <tr>\n",
       "      <th>1</th>\n",
       "      <td>1974 Shattuck</td>\n",
       "      <td>1974 Shattuck Ave, Berkeley, CA</td>\n",
       "      <td>Five commercial buildings; merge four lots. In...</td>\n",
       "      <td>28.0</td>\n",
       "      <td>599</td>\n",
       "      <td>58.0</td>\n",
       "      <td>2025.0</td>\n",
       "      <td>NaN</td>\n",
       "      <td>Tallest proposed building in Berkeley so far. ...</td>\n",
       "    </tr>\n",
       "    <tr>\n",
       "      <th>2</th>\n",
       "      <td>The Hub</td>\n",
       "      <td>2128 Oxford St, Berkeley, CA 94704</td>\n",
       "      <td>Two buildings (one mixed-use with 16 rent-cont...</td>\n",
       "      <td>26.0</td>\n",
       "      <td>456</td>\n",
       "      <td>40.0</td>\n",
       "      <td>2024.0</td>\n",
       "      <td>NaN</td>\n",
       "      <td>NaN</td>\n",
       "    </tr>\n",
       "    <tr>\n",
       "      <th>3</th>\n",
       "      <td>2190 Shattuck</td>\n",
       "      <td>2190 Shattuck Ave, Berkeley, CA 94704</td>\n",
       "      <td>NaN</td>\n",
       "      <td>25.0</td>\n",
       "      <td>326</td>\n",
       "      <td>32.0</td>\n",
       "      <td>2023.0</td>\n",
       "      <td>NaN</td>\n",
       "      <td>Controversial design as opponents worry it cou...</td>\n",
       "    </tr>\n",
       "    <tr>\n",
       "      <th>4</th>\n",
       "      <td>2029 University</td>\n",
       "      <td>2029 University Ave, Berkeley, CA 94704</td>\n",
       "      <td>Existing non-landmarked 2-story commercial str...</td>\n",
       "      <td>23.0</td>\n",
       "      <td>240</td>\n",
       "      <td>36.0</td>\n",
       "      <td>NaN</td>\n",
       "      <td>NaN</td>\n",
       "      <td>Currently under review.</td>\n",
       "    </tr>\n",
       "  </tbody>\n",
       "</table>\n",
       "</div>"
      ],
      "text/plain": [
       "               Name                                  Address  \\\n",
       "0       2344 Fulton       2344 Fulton St, Berkeley, CA 94704   \n",
       "1     1974 Shattuck          1974 Shattuck Ave, Berkeley, CA   \n",
       "2           The Hub       2128 Oxford St, Berkeley, CA 94704   \n",
       "3     2190 Shattuck    2190 Shattuck Ave, Berkeley, CA 94704   \n",
       "4  2029 University   2029 University Ave, Berkeley, CA 94704   \n",
       "\n",
       "                                 Required Demolition  Stories  Total Units  \\\n",
       "0                                                NaN      NaN           18   \n",
       "1  Five commercial buildings; merge four lots. In...     28.0          599   \n",
       "2  Two buildings (one mixed-use with 16 rent-cont...     26.0          456   \n",
       "3                                                NaN     25.0          326   \n",
       "4  Existing non-landmarked 2-story commercial str...     23.0          240   \n",
       "\n",
       "   Below Market Rate Units  Year City Approved  Year Building Completed  \\\n",
       "0                      NaN                 NaN                      NaN   \n",
       "1                     58.0              2025.0                      NaN   \n",
       "2                     40.0              2024.0                      NaN   \n",
       "3                     32.0              2023.0                      NaN   \n",
       "4                     36.0                 NaN                      NaN   \n",
       "\n",
       "                                               Notes  \n",
       "0              Pre-application request under review.  \n",
       "1  Tallest proposed building in Berkeley so far. ...  \n",
       "2                                                NaN  \n",
       "3  Controversial design as opponents worry it cou...  \n",
       "4                            Currently under review.  "
      ]
     },
     "execution_count": 3,
     "metadata": {},
     "output_type": "execute_result"
    }
   ],
   "source": [
    "df.head(5)"
   ]
  },
  {
   "cell_type": "code",
   "execution_count": 4,
   "id": "02491345",
   "metadata": {},
   "outputs": [
    {
     "data": {
      "text/plain": [
       "Name                        object\n",
       "Address                     object\n",
       "Required Demolition         object\n",
       "Stories                    float64\n",
       "Total Units                  int64\n",
       "Below Market Rate Units    float64\n",
       "Year City Approved         float64\n",
       "Year Building Completed    float64\n",
       "Notes                       object\n",
       "dtype: object"
      ]
     },
     "execution_count": 4,
     "metadata": {},
     "output_type": "execute_result"
    }
   ],
   "source": [
    "df.dtypes"
   ]
  },
  {
   "cell_type": "markdown",
   "id": "34d9afd2",
   "metadata": {},
   "source": [
    "Note: most of these used floats because they include null values."
   ]
  },
  {
   "cell_type": "code",
   "execution_count": 5,
   "id": "b7adf8f6",
   "metadata": {},
   "outputs": [
    {
     "data": {
      "text/plain": [
       "11.47"
      ]
     },
     "execution_count": 5,
     "metadata": {},
     "output_type": "execute_result"
    }
   ],
   "source": [
    "df['Stories'].mean().round(2)"
   ]
  },
  {
   "cell_type": "code",
   "execution_count": 6,
   "id": "d8fa8aa2",
   "metadata": {},
   "outputs": [
    {
     "data": {
      "text/plain": [
       "151.23"
      ]
     },
     "execution_count": 6,
     "metadata": {},
     "output_type": "execute_result"
    }
   ],
   "source": [
    "df['Total Units'].mean().round(2)"
   ]
  },
  {
   "cell_type": "code",
   "execution_count": 7,
   "id": "1c98be25",
   "metadata": {},
   "outputs": [
    {
     "data": {
      "text/plain": [
       "22.91"
      ]
     },
     "execution_count": 7,
     "metadata": {},
     "output_type": "execute_result"
    }
   ],
   "source": [
    "df['Below Market Rate Units'].mean().round(2)"
   ]
  },
  {
   "cell_type": "code",
   "execution_count": 8,
   "id": "52f7ff1e",
   "metadata": {},
   "outputs": [
    {
     "data": {
      "text/plain": [
       "2021.71"
      ]
     },
     "execution_count": 8,
     "metadata": {},
     "output_type": "execute_result"
    }
   ],
   "source": [
    "df['Year City Approved'].mean().round(2)"
   ]
  },
  {
   "cell_type": "code",
   "execution_count": 9,
   "id": "57bcad5d",
   "metadata": {},
   "outputs": [
    {
     "data": {
      "text/plain": [
       "<Axes: >"
      ]
     },
     "execution_count": 9,
     "metadata": {},
     "output_type": "execute_result"
    },
    {
     "data": {
      "image/png": "[encoded data removed]",
      "text/plain": [
       "<Figure size 640x480 with 1 Axes>"
      ]
     },
     "metadata": {},
     "output_type": "display_data"
    }
   ],
   "source": [
    "df['Stories'].hist(bins=30)"
   ]
  },
  {
   "cell_type": "markdown",
   "id": "efe1ecfd",
   "metadata": {},
   "source": [
    "Looks like most of the buildings are between 5 to 10 stories."
   ]
  },
  {
   "cell_type": "code",
   "execution_count": 10,
   "id": "d5316d1a",
   "metadata": {},
   "outputs": [
    {
     "data": {
      "text/plain": [
       "<Axes: >"
      ]
     },
     "execution_count": 10,
     "metadata": {},
     "output_type": "execute_result"
    },
    {
     "data": {
      "image/png": "[encoded data removed]",
      "text/plain": [
       "<Figure size 640x480 with 1 Axes>"
      ]
     },
     "metadata": {},
     "output_type": "display_data"
    }
   ],
   "source": [
    "df['Total Units'].hist(bins=30)"
   ]
  },
  {
   "cell_type": "markdown",
   "id": "573312c7",
   "metadata": {},
   "source": [
    "Looks like all but three of the buildings have less than 250 units."
   ]
  },
  {
   "cell_type": "code",
   "execution_count": 11,
   "id": "7342208b",
   "metadata": {},
   "outputs": [
    {
     "data": {
      "text/plain": [
       "<Axes: >"
      ]
     },
     "execution_count": 11,
     "metadata": {},
     "output_type": "execute_result"
    },
    {
     "data": {
      "image/png": "[encoded data removed]",
      "text/plain": [
       "<Figure size 640x480 with 1 Axes>"
      ]
     },
     "metadata": {},
     "output_type": "display_data"
    }
   ],
   "source": [
    "df['Below Market Rate Units'].hist(bins=30)"
   ]
  },
  {
   "cell_type": "markdown",
   "id": "70c992e7",
   "metadata": {},
   "source": [
    "And it looks like nearly all of the buildings have less than 40 below market units rates. Mostly fewer than 20."
   ]
  },
  {
   "cell_type": "markdown",
   "id": "99f24f40",
   "metadata": {},
   "source": [
    "Let's get some totals."
   ]
  },
  {
   "cell_type": "code",
   "execution_count": 12,
   "id": "b7221758",
   "metadata": {},
   "outputs": [
    {
     "data": {
      "text/plain": [
       "4688"
      ]
     },
     "execution_count": 12,
     "metadata": {},
     "output_type": "execute_result"
    }
   ],
   "source": [
    "df['Total Units'].sum()"
   ]
  },
  {
   "cell_type": "code",
   "execution_count": 13,
   "id": "8bc2fa3a",
   "metadata": {},
   "outputs": [
    {
     "data": {
      "text/plain": [
       "504.0"
      ]
     },
     "execution_count": 13,
     "metadata": {},
     "output_type": "execute_result"
    }
   ],
   "source": [
    "df['Below Market Rate Units'].sum()"
   ]
  },
  {
   "cell_type": "code",
   "execution_count": 14,
   "id": "53cc6e65",
   "metadata": {},
   "outputs": [
    {
     "data": {
      "text/plain": [
       "10.750853242320819"
      ]
     },
     "execution_count": 14,
     "metadata": {},
     "output_type": "execute_result"
    }
   ],
   "source": [
    "(\n",
    "    df['Below Market Rate Units'].sum() / df['Total Units'].sum()\n",
    "    * 100\n",
    ")"
   ]
  },
  {
   "cell_type": "markdown",
   "id": "6abc49ed",
   "metadata": {},
   "source": [
    "About 10.75% of the 4,688 units are below market rate units."
   ]
  },
  {
   "cell_type": "code",
   "execution_count": 15,
   "id": "67ddcb3b",
   "metadata": {},
   "outputs": [
    {
     "data": {
      "text/plain": [
       "Year City Approved\n",
       "2024.0    5\n",
       "2023.0    4\n",
       "2019.0    4\n",
       "2020.0    3\n",
       "2022.0    2\n",
       "2025.0    1\n",
       "2021.0    1\n",
       "2018.0    1\n",
       "Name: count, dtype: int64"
      ]
     },
     "execution_count": 15,
     "metadata": {},
     "output_type": "execute_result"
    }
   ],
   "source": [
    "df['Year City Approved'].value_counts()"
   ]
  },
  {
   "cell_type": "markdown",
   "id": "c637a539",
   "metadata": {},
   "source": [
    "Larger shares of units approved in 2019, 2023, 2024. I know there are lots of null values there though."
   ]
  },
  {
   "cell_type": "code",
   "execution_count": 16,
   "id": "c3d91a1c",
   "metadata": {},
   "outputs": [
    {
     "data": {
      "text/plain": [
       "Year City Approved\n",
       "False    21\n",
       "True     10\n",
       "Name: count, dtype: int64"
      ]
     },
     "execution_count": 16,
     "metadata": {},
     "output_type": "execute_result"
    }
   ],
   "source": [
    "df['Year City Approved'].isnull().value_counts()"
   ]
  },
  {
   "cell_type": "markdown",
   "id": "7aec8673",
   "metadata": {},
   "source": [
    "10 null values to be exact. Let's look at the 2024 projects."
   ]
  },
  {
   "cell_type": "code",
   "execution_count": 17,
   "id": "0ac1a331",
   "metadata": {},
   "outputs": [
    {
     "data": {
      "text/html": [
       "<div>\n",
       "<style scoped>\n",
       "    .dataframe tbody tr th:only-of-type {\n",
       "        vertical-align: middle;\n",
       "    }\n",
       "\n",
       "    .dataframe tbody tr th {\n",
       "        vertical-align: top;\n",
       "    }\n",
       "\n",
       "    .dataframe thead th {\n",
       "        text-align: right;\n",
       "    }\n",
       "</style>\n",
       "<table border=\"1\" class=\"dataframe\">\n",
       "  <thead>\n",
       "    <tr style=\"text-align: right;\">\n",
       "      <th></th>\n",
       "      <th>Name</th>\n",
       "      <th>Address</th>\n",
       "      <th>Required Demolition</th>\n",
       "      <th>Stories</th>\n",
       "      <th>Total Units</th>\n",
       "      <th>Below Market Rate Units</th>\n",
       "      <th>Year City Approved</th>\n",
       "      <th>Year Building Completed</th>\n",
       "      <th>Notes</th>\n",
       "    </tr>\n",
       "  </thead>\n",
       "  <tbody>\n",
       "    <tr>\n",
       "      <th>2</th>\n",
       "      <td>The Hub</td>\n",
       "      <td>2128 Oxford St, Berkeley, CA 94704</td>\n",
       "      <td>Two buildings (one mixed-use with 16 rent-cont...</td>\n",
       "      <td>26.0</td>\n",
       "      <td>456</td>\n",
       "      <td>40.0</td>\n",
       "      <td>2024.0</td>\n",
       "      <td>NaN</td>\n",
       "      <td>NaN</td>\n",
       "    </tr>\n",
       "    <tr>\n",
       "      <th>5</th>\n",
       "      <td>2113 Kittredge</td>\n",
       "      <td>2113 Kittredge St, Berkeley, CA 94704</td>\n",
       "      <td>The commercial building on a\\nlandmarked site ...</td>\n",
       "      <td>18.0</td>\n",
       "      <td>211</td>\n",
       "      <td>22.0</td>\n",
       "      <td>2024.0</td>\n",
       "      <td>NaN</td>\n",
       "      <td>Would include a new 300-seat live theater space.</td>\n",
       "    </tr>\n",
       "    <tr>\n",
       "      <th>7</th>\n",
       "      <td>2274 Shattuck</td>\n",
       "      <td>2274 Shattuck Ave, Berkeley, CA 94704</td>\n",
       "      <td>The commercial building with the preservation ...</td>\n",
       "      <td>17.0</td>\n",
       "      <td>227</td>\n",
       "      <td>23.0</td>\n",
       "      <td>2024.0</td>\n",
       "      <td>NaN</td>\n",
       "      <td>NaN</td>\n",
       "    </tr>\n",
       "    <tr>\n",
       "      <th>18</th>\n",
       "      <td>2037 Durant</td>\n",
       "      <td>2037 Durant Ave, Berkeley, CA 94704</td>\n",
       "      <td>A one-story, 13,000 square-foot commercial bui...</td>\n",
       "      <td>8.0</td>\n",
       "      <td>74</td>\n",
       "      <td>4.0</td>\n",
       "      <td>2024.0</td>\n",
       "      <td>NaN</td>\n",
       "      <td>NaN</td>\n",
       "    </tr>\n",
       "    <tr>\n",
       "      <th>23</th>\n",
       "      <td>2550 Shattuck</td>\n",
       "      <td>2550 Shattuck Ave, Berkeley, CA 94704</td>\n",
       "      <td>A 2-story (25 feet) 14,296 square-foot non-res...</td>\n",
       "      <td>7.0</td>\n",
       "      <td>72</td>\n",
       "      <td>15.0</td>\n",
       "      <td>2024.0</td>\n",
       "      <td>NaN</td>\n",
       "      <td>Technically zoned as \"Adeline Corridor Commerc...</td>\n",
       "    </tr>\n",
       "  </tbody>\n",
       "</table>\n",
       "</div>"
      ],
      "text/plain": [
       "              Name                                Address  \\\n",
       "2          The Hub     2128 Oxford St, Berkeley, CA 94704   \n",
       "5   2113 Kittredge  2113 Kittredge St, Berkeley, CA 94704   \n",
       "7    2274 Shattuck  2274 Shattuck Ave, Berkeley, CA 94704   \n",
       "18     2037 Durant    2037 Durant Ave, Berkeley, CA 94704   \n",
       "23   2550 Shattuck  2550 Shattuck Ave, Berkeley, CA 94704   \n",
       "\n",
       "                                  Required Demolition  Stories  Total Units  \\\n",
       "2   Two buildings (one mixed-use with 16 rent-cont...     26.0          456   \n",
       "5   The commercial building on a\\nlandmarked site ...     18.0          211   \n",
       "7   The commercial building with the preservation ...     17.0          227   \n",
       "18  A one-story, 13,000 square-foot commercial bui...      8.0           74   \n",
       "23  A 2-story (25 feet) 14,296 square-foot non-res...      7.0           72   \n",
       "\n",
       "    Below Market Rate Units  Year City Approved  Year Building Completed  \\\n",
       "2                      40.0              2024.0                      NaN   \n",
       "5                      22.0              2024.0                      NaN   \n",
       "7                      23.0              2024.0                      NaN   \n",
       "18                      4.0              2024.0                      NaN   \n",
       "23                     15.0              2024.0                      NaN   \n",
       "\n",
       "                                                Notes  \n",
       "2                                                 NaN  \n",
       "5    Would include a new 300-seat live theater space.  \n",
       "7                                                 NaN  \n",
       "18                                                NaN  \n",
       "23  Technically zoned as \"Adeline Corridor Commerc...  "
      ]
     },
     "execution_count": 17,
     "metadata": {},
     "output_type": "execute_result"
    }
   ],
   "source": [
    "df[df['Year City Approved'] == 2024]"
   ]
  },
  {
   "cell_type": "markdown",
   "id": "c83181a2",
   "metadata": {},
   "source": [
    "Now I'm curious: how many units per year?"
   ]
  },
  {
   "cell_type": "code",
   "execution_count": 18,
   "id": "0c600c52",
   "metadata": {},
   "outputs": [
    {
     "data": {
      "text/html": [
       "<div>\n",
       "<style scoped>\n",
       "    .dataframe tbody tr th:only-of-type {\n",
       "        vertical-align: middle;\n",
       "    }\n",
       "\n",
       "    .dataframe tbody tr th {\n",
       "        vertical-align: top;\n",
       "    }\n",
       "\n",
       "    .dataframe thead th {\n",
       "        text-align: right;\n",
       "    }\n",
       "</style>\n",
       "<table border=\"1\" class=\"dataframe\">\n",
       "  <thead>\n",
       "    <tr style=\"text-align: right;\">\n",
       "      <th></th>\n",
       "      <th>Year City Approved</th>\n",
       "      <th>Total Units</th>\n",
       "    </tr>\n",
       "  </thead>\n",
       "  <tbody>\n",
       "    <tr>\n",
       "      <th>6</th>\n",
       "      <td>2024.0</td>\n",
       "      <td>1040</td>\n",
       "    </tr>\n",
       "    <tr>\n",
       "      <th>5</th>\n",
       "      <td>2023.0</td>\n",
       "      <td>777</td>\n",
       "    </tr>\n",
       "    <tr>\n",
       "      <th>7</th>\n",
       "      <td>2025.0</td>\n",
       "      <td>599</td>\n",
       "    </tr>\n",
       "    <tr>\n",
       "      <th>1</th>\n",
       "      <td>2019.0</td>\n",
       "      <td>470</td>\n",
       "    </tr>\n",
       "    <tr>\n",
       "      <th>2</th>\n",
       "      <td>2020.0</td>\n",
       "      <td>285</td>\n",
       "    </tr>\n",
       "    <tr>\n",
       "      <th>0</th>\n",
       "      <td>2018.0</td>\n",
       "      <td>142</td>\n",
       "    </tr>\n",
       "    <tr>\n",
       "      <th>3</th>\n",
       "      <td>2021.0</td>\n",
       "      <td>82</td>\n",
       "    </tr>\n",
       "    <tr>\n",
       "      <th>4</th>\n",
       "      <td>2022.0</td>\n",
       "      <td>52</td>\n",
       "    </tr>\n",
       "  </tbody>\n",
       "</table>\n",
       "</div>"
      ],
      "text/plain": [
       "   Year City Approved  Total Units\n",
       "6              2024.0         1040\n",
       "5              2023.0          777\n",
       "7              2025.0          599\n",
       "1              2019.0          470\n",
       "2              2020.0          285\n",
       "0              2018.0          142\n",
       "3              2021.0           82\n",
       "4              2022.0           52"
      ]
     },
     "execution_count": 18,
     "metadata": {},
     "output_type": "execute_result"
    }
   ],
   "source": [
    "(\n",
    "    df.groupby('Year City Approved')['Total Units']\n",
    "    .sum()\n",
    "    .reset_index()\n",
    "    .sort_values(by='Total Units', ascending=False)\n",
    ")"
   ]
  },
  {
   "cell_type": "markdown",
   "id": "3100f104",
   "metadata": {},
   "source": [
    "OK, now let's generate some coordinates for each of these projects."
   ]
  },
  {
   "cell_type": "code",
   "execution_count": 19,
   "id": "fdc1cb14",
   "metadata": {},
   "outputs": [],
   "source": [
    "import geocoder\n",
    "import os\n",
    "from dotenv import load_dotenv"
   ]
  },
  {
   "cell_type": "code",
   "execution_count": 20,
   "id": "8dfe06cf",
   "metadata": {},
   "outputs": [],
   "source": [
    "load_dotenv()\n",
    "\n",
    "api_key = os.getenv(\"api_key\")"
   ]
  },
  {
   "cell_type": "code",
   "execution_count": 21,
   "id": "ed2375da",
   "metadata": {},
   "outputs": [],
   "source": [
    "# A function to get the latitude and longitude\n",
    "def get_lat_lng(address):\n",
    "    try:\n",
    "        g = geocoder.google(address, key=api_key)\n",
    "        if g.ok:\n",
    "            return g.latlng \n",
    "        else:\n",
    "            return [None, None]\n",
    "    except Exception as e:\n",
    "        print(f\"Error geocoding {address}: {e}\")\n",
    "        return [None, None]"
   ]
  },
  {
   "cell_type": "code",
   "execution_count": 22,
   "id": "0da86e75",
   "metadata": {},
   "outputs": [],
   "source": [
    "import time"
   ]
  },
  {
   "cell_type": "code",
   "execution_count": 23,
   "id": "df18eeb6",
   "metadata": {},
   "outputs": [
    {
     "data": {
      "text/html": [
       "<div>\n",
       "<style scoped>\n",
       "    .dataframe tbody tr th:only-of-type {\n",
       "        vertical-align: middle;\n",
       "    }\n",
       "\n",
       "    .dataframe tbody tr th {\n",
       "        vertical-align: top;\n",
       "    }\n",
       "\n",
       "    .dataframe thead th {\n",
       "        text-align: right;\n",
       "    }\n",
       "</style>\n",
       "<table border=\"1\" class=\"dataframe\">\n",
       "  <thead>\n",
       "    <tr style=\"text-align: right;\">\n",
       "      <th></th>\n",
       "      <th>Name</th>\n",
       "      <th>Address</th>\n",
       "      <th>Required Demolition</th>\n",
       "      <th>Stories</th>\n",
       "      <th>Total Units</th>\n",
       "      <th>Below Market Rate Units</th>\n",
       "      <th>Year City Approved</th>\n",
       "      <th>Year Building Completed</th>\n",
       "      <th>Notes</th>\n",
       "      <th>Latitude</th>\n",
       "      <th>Longitude</th>\n",
       "    </tr>\n",
       "  </thead>\n",
       "  <tbody>\n",
       "    <tr>\n",
       "      <th>0</th>\n",
       "      <td>2344 Fulton</td>\n",
       "      <td>2344 Fulton St, Berkeley, CA 94704</td>\n",
       "      <td>NaN</td>\n",
       "      <td>NaN</td>\n",
       "      <td>18</td>\n",
       "      <td>NaN</td>\n",
       "      <td>NaN</td>\n",
       "      <td>NaN</td>\n",
       "      <td>Pre-application request under review.</td>\n",
       "      <td>37.866180</td>\n",
       "      <td>-122.265898</td>\n",
       "    </tr>\n",
       "    <tr>\n",
       "      <th>1</th>\n",
       "      <td>1974 Shattuck</td>\n",
       "      <td>1974 Shattuck Ave, Berkeley, CA</td>\n",
       "      <td>Five commercial buildings; merge four lots. In...</td>\n",
       "      <td>28.0</td>\n",
       "      <td>599</td>\n",
       "      <td>58.0</td>\n",
       "      <td>2025.0</td>\n",
       "      <td>NaN</td>\n",
       "      <td>Tallest proposed building in Berkeley so far. ...</td>\n",
       "      <td>37.872623</td>\n",
       "      <td>-122.268800</td>\n",
       "    </tr>\n",
       "    <tr>\n",
       "      <th>2</th>\n",
       "      <td>The Hub</td>\n",
       "      <td>2128 Oxford St, Berkeley, CA 94704</td>\n",
       "      <td>Two buildings (one mixed-use with 16 rent-cont...</td>\n",
       "      <td>26.0</td>\n",
       "      <td>456</td>\n",
       "      <td>40.0</td>\n",
       "      <td>2024.0</td>\n",
       "      <td>NaN</td>\n",
       "      <td>NaN</td>\n",
       "      <td>37.870434</td>\n",
       "      <td>-122.266083</td>\n",
       "    </tr>\n",
       "    <tr>\n",
       "      <th>3</th>\n",
       "      <td>2190 Shattuck</td>\n",
       "      <td>2190 Shattuck Ave, Berkeley, CA 94704</td>\n",
       "      <td>NaN</td>\n",
       "      <td>25.0</td>\n",
       "      <td>326</td>\n",
       "      <td>32.0</td>\n",
       "      <td>2023.0</td>\n",
       "      <td>NaN</td>\n",
       "      <td>Controversial design as opponents worry it cou...</td>\n",
       "      <td>37.869482</td>\n",
       "      <td>-122.268668</td>\n",
       "    </tr>\n",
       "    <tr>\n",
       "      <th>4</th>\n",
       "      <td>2029 University</td>\n",
       "      <td>2029 University Ave, Berkeley, CA 94704</td>\n",
       "      <td>Existing non-landmarked 2-story commercial str...</td>\n",
       "      <td>23.0</td>\n",
       "      <td>240</td>\n",
       "      <td>36.0</td>\n",
       "      <td>NaN</td>\n",
       "      <td>NaN</td>\n",
       "      <td>Currently under review.</td>\n",
       "      <td>37.872126</td>\n",
       "      <td>-122.269960</td>\n",
       "    </tr>\n",
       "  </tbody>\n",
       "</table>\n",
       "</div>"
      ],
      "text/plain": [
       "               Name                                  Address  \\\n",
       "0       2344 Fulton       2344 Fulton St, Berkeley, CA 94704   \n",
       "1     1974 Shattuck          1974 Shattuck Ave, Berkeley, CA   \n",
       "2           The Hub       2128 Oxford St, Berkeley, CA 94704   \n",
       "3     2190 Shattuck    2190 Shattuck Ave, Berkeley, CA 94704   \n",
       "4  2029 University   2029 University Ave, Berkeley, CA 94704   \n",
       "\n",
       "                                 Required Demolition  Stories  Total Units  \\\n",
       "0                                                NaN      NaN           18   \n",
       "1  Five commercial buildings; merge four lots. In...     28.0          599   \n",
       "2  Two buildings (one mixed-use with 16 rent-cont...     26.0          456   \n",
       "3                                                NaN     25.0          326   \n",
       "4  Existing non-landmarked 2-story commercial str...     23.0          240   \n",
       "\n",
       "   Below Market Rate Units  Year City Approved  Year Building Completed  \\\n",
       "0                      NaN                 NaN                      NaN   \n",
       "1                     58.0              2025.0                      NaN   \n",
       "2                     40.0              2024.0                      NaN   \n",
       "3                     32.0              2023.0                      NaN   \n",
       "4                     36.0                 NaN                      NaN   \n",
       "\n",
       "                                               Notes   Latitude   Longitude  \n",
       "0              Pre-application request under review.  37.866180 -122.265898  \n",
       "1  Tallest proposed building in Berkeley so far. ...  37.872623 -122.268800  \n",
       "2                                                NaN  37.870434 -122.266083  \n",
       "3  Controversial design as opponents worry it cou...  37.869482 -122.268668  \n",
       "4                            Currently under review.  37.872126 -122.269960  "
      ]
     },
     "execution_count": 23,
     "metadata": {},
     "output_type": "execute_result"
    }
   ],
   "source": [
    "latitudes = []\n",
    "longitudes = []\n",
    "\n",
    "for address in df['Address']:\n",
    "    latlng = get_lat_lng(address)\n",
    "    latitudes.append(latlng[0])\n",
    "    longitudes.append(latlng[1])\n",
    "    time.sleep(1)  # in case of API limits\n",
    "\n",
    "# Add to the DataFrame\n",
    "df['Latitude'] = latitudes\n",
    "df['Longitude'] = longitudes\n",
    "\n",
    "# Output the results\n",
    "df.head()"
   ]
  },
  {
   "cell_type": "markdown",
   "id": "e82809d4",
   "metadata": {},
   "source": [
    "I also want to create a True / False column for projects that are completed or not (for visualization purposes)."
   ]
  },
  {
   "cell_type": "code",
   "execution_count": 24,
   "id": "2cd3a692",
   "metadata": {},
   "outputs": [
    {
     "data": {
      "text/html": [
       "<div>\n",
       "<style scoped>\n",
       "    .dataframe tbody tr th:only-of-type {\n",
       "        vertical-align: middle;\n",
       "    }\n",
       "\n",
       "    .dataframe tbody tr th {\n",
       "        vertical-align: top;\n",
       "    }\n",
       "\n",
       "    .dataframe thead th {\n",
       "        text-align: right;\n",
       "    }\n",
       "</style>\n",
       "<table border=\"1\" class=\"dataframe\">\n",
       "  <thead>\n",
       "    <tr style=\"text-align: right;\">\n",
       "      <th></th>\n",
       "      <th>Name</th>\n",
       "      <th>Address</th>\n",
       "      <th>Required Demolition</th>\n",
       "      <th>Stories</th>\n",
       "      <th>Total Units</th>\n",
       "      <th>Below Market Rate Units</th>\n",
       "      <th>Year City Approved</th>\n",
       "      <th>Year Building Completed</th>\n",
       "      <th>Notes</th>\n",
       "      <th>Latitude</th>\n",
       "      <th>Longitude</th>\n",
       "      <th>Incomplete Project?</th>\n",
       "    </tr>\n",
       "  </thead>\n",
       "  <tbody>\n",
       "    <tr>\n",
       "      <th>0</th>\n",
       "      <td>2344 Fulton</td>\n",
       "      <td>2344 Fulton St, Berkeley, CA 94704</td>\n",
       "      <td>NaN</td>\n",
       "      <td>NaN</td>\n",
       "      <td>18</td>\n",
       "      <td>NaN</td>\n",
       "      <td>NaN</td>\n",
       "      <td>NaN</td>\n",
       "      <td>Pre-application request under review.</td>\n",
       "      <td>37.866180</td>\n",
       "      <td>-122.265898</td>\n",
       "      <td>True</td>\n",
       "    </tr>\n",
       "    <tr>\n",
       "      <th>1</th>\n",
       "      <td>1974 Shattuck</td>\n",
       "      <td>1974 Shattuck Ave, Berkeley, CA</td>\n",
       "      <td>Five commercial buildings; merge four lots. In...</td>\n",
       "      <td>28.0</td>\n",
       "      <td>599</td>\n",
       "      <td>58.0</td>\n",
       "      <td>2025.0</td>\n",
       "      <td>NaN</td>\n",
       "      <td>Tallest proposed building in Berkeley so far. ...</td>\n",
       "      <td>37.872623</td>\n",
       "      <td>-122.268800</td>\n",
       "      <td>True</td>\n",
       "    </tr>\n",
       "    <tr>\n",
       "      <th>2</th>\n",
       "      <td>The Hub</td>\n",
       "      <td>2128 Oxford St, Berkeley, CA 94704</td>\n",
       "      <td>Two buildings (one mixed-use with 16 rent-cont...</td>\n",
       "      <td>26.0</td>\n",
       "      <td>456</td>\n",
       "      <td>40.0</td>\n",
       "      <td>2024.0</td>\n",
       "      <td>NaN</td>\n",
       "      <td>NaN</td>\n",
       "      <td>37.870434</td>\n",
       "      <td>-122.266083</td>\n",
       "      <td>True</td>\n",
       "    </tr>\n",
       "    <tr>\n",
       "      <th>3</th>\n",
       "      <td>2190 Shattuck</td>\n",
       "      <td>2190 Shattuck Ave, Berkeley, CA 94704</td>\n",
       "      <td>NaN</td>\n",
       "      <td>25.0</td>\n",
       "      <td>326</td>\n",
       "      <td>32.0</td>\n",
       "      <td>2023.0</td>\n",
       "      <td>NaN</td>\n",
       "      <td>Controversial design as opponents worry it cou...</td>\n",
       "      <td>37.869482</td>\n",
       "      <td>-122.268668</td>\n",
       "      <td>True</td>\n",
       "    </tr>\n",
       "    <tr>\n",
       "      <th>4</th>\n",
       "      <td>2029 University</td>\n",
       "      <td>2029 University Ave, Berkeley, CA 94704</td>\n",
       "      <td>Existing non-landmarked 2-story commercial str...</td>\n",
       "      <td>23.0</td>\n",
       "      <td>240</td>\n",
       "      <td>36.0</td>\n",
       "      <td>NaN</td>\n",
       "      <td>NaN</td>\n",
       "      <td>Currently under review.</td>\n",
       "      <td>37.872126</td>\n",
       "      <td>-122.269960</td>\n",
       "      <td>True</td>\n",
       "    </tr>\n",
       "  </tbody>\n",
       "</table>\n",
       "</div>"
      ],
      "text/plain": [
       "               Name                                  Address  \\\n",
       "0       2344 Fulton       2344 Fulton St, Berkeley, CA 94704   \n",
       "1     1974 Shattuck          1974 Shattuck Ave, Berkeley, CA   \n",
       "2           The Hub       2128 Oxford St, Berkeley, CA 94704   \n",
       "3     2190 Shattuck    2190 Shattuck Ave, Berkeley, CA 94704   \n",
       "4  2029 University   2029 University Ave, Berkeley, CA 94704   \n",
       "\n",
       "                                 Required Demolition  Stories  Total Units  \\\n",
       "0                                                NaN      NaN           18   \n",
       "1  Five commercial buildings; merge four lots. In...     28.0          599   \n",
       "2  Two buildings (one mixed-use with 16 rent-cont...     26.0          456   \n",
       "3                                                NaN     25.0          326   \n",
       "4  Existing non-landmarked 2-story commercial str...     23.0          240   \n",
       "\n",
       "   Below Market Rate Units  Year City Approved  Year Building Completed  \\\n",
       "0                      NaN                 NaN                      NaN   \n",
       "1                     58.0              2025.0                      NaN   \n",
       "2                     40.0              2024.0                      NaN   \n",
       "3                     32.0              2023.0                      NaN   \n",
       "4                     36.0                 NaN                      NaN   \n",
       "\n",
       "                                               Notes   Latitude   Longitude  \\\n",
       "0              Pre-application request under review.  37.866180 -122.265898   \n",
       "1  Tallest proposed building in Berkeley so far. ...  37.872623 -122.268800   \n",
       "2                                                NaN  37.870434 -122.266083   \n",
       "3  Controversial design as opponents worry it cou...  37.869482 -122.268668   \n",
       "4                            Currently under review.  37.872126 -122.269960   \n",
       "\n",
       "   Incomplete Project?  \n",
       "0                 True  \n",
       "1                 True  \n",
       "2                 True  \n",
       "3                 True  \n",
       "4                 True  "
      ]
     },
     "execution_count": 24,
     "metadata": {},
     "output_type": "execute_result"
    }
   ],
   "source": [
    "df['Incomplete Project?'] = df['Year Building Completed'].isnull()\n",
    "df.head()"
   ]
  },
  {
   "cell_type": "markdown",
   "id": "e5d0757f",
   "metadata": {},
   "source": [
    "I'm realizing that I want to restore the original \"Not completed\", \"Not yet approved\", etc. values that I originally set as null when reading in the csv. I'm going to read in the original csv again."
   ]
  },
  {
   "cell_type": "code",
   "execution_count": 25,
   "id": "48b34d9f",
   "metadata": {},
   "outputs": [],
   "source": [
    "df_original = pd.read_csv(\"Downtown Berkeley Housing Projects - Projects.csv\")"
   ]
  },
  {
   "cell_type": "code",
   "execution_count": 26,
   "id": "2334bcb8",
   "metadata": {},
   "outputs": [
    {
     "data": {
      "text/html": [
       "<div>\n",
       "<style scoped>\n",
       "    .dataframe tbody tr th:only-of-type {\n",
       "        vertical-align: middle;\n",
       "    }\n",
       "\n",
       "    .dataframe tbody tr th {\n",
       "        vertical-align: top;\n",
       "    }\n",
       "\n",
       "    .dataframe thead th {\n",
       "        text-align: right;\n",
       "    }\n",
       "</style>\n",
       "<table border=\"1\" class=\"dataframe\">\n",
       "  <thead>\n",
       "    <tr style=\"text-align: right;\">\n",
       "      <th></th>\n",
       "      <th>Name</th>\n",
       "      <th>Address</th>\n",
       "      <th>Required Demolition</th>\n",
       "      <th>Stories</th>\n",
       "      <th>Total Units</th>\n",
       "      <th>Below Market Rate Units</th>\n",
       "      <th>Year City Approved</th>\n",
       "      <th>Year Building Completed</th>\n",
       "      <th>Notes</th>\n",
       "      <th>Latitude</th>\n",
       "      <th>Longitude</th>\n",
       "      <th>Incomplete Project?</th>\n",
       "    </tr>\n",
       "  </thead>\n",
       "  <tbody>\n",
       "    <tr>\n",
       "      <th>0</th>\n",
       "      <td>2344 Fulton</td>\n",
       "      <td>2344 Fulton St, Berkeley, CA 94704</td>\n",
       "      <td>NaN</td>\n",
       "      <td>Unknown</td>\n",
       "      <td>18</td>\n",
       "      <td>None listed</td>\n",
       "      <td>Not yet approved</td>\n",
       "      <td>Not completed</td>\n",
       "      <td>Pre-application request under review.</td>\n",
       "      <td>37.866180</td>\n",
       "      <td>-122.265898</td>\n",
       "      <td>True</td>\n",
       "    </tr>\n",
       "    <tr>\n",
       "      <th>1</th>\n",
       "      <td>1974 Shattuck</td>\n",
       "      <td>1974 Shattuck Ave, Berkeley, CA</td>\n",
       "      <td>Five commercial buildings; merge four lots. In...</td>\n",
       "      <td>28</td>\n",
       "      <td>599</td>\n",
       "      <td>58</td>\n",
       "      <td>2025</td>\n",
       "      <td>Not completed</td>\n",
       "      <td>Tallest proposed building in Berkeley so far. ...</td>\n",
       "      <td>37.872623</td>\n",
       "      <td>-122.268800</td>\n",
       "      <td>True</td>\n",
       "    </tr>\n",
       "    <tr>\n",
       "      <th>2</th>\n",
       "      <td>The Hub</td>\n",
       "      <td>2128 Oxford St, Berkeley, CA 94704</td>\n",
       "      <td>Two buildings (one mixed-use with 16 rent-cont...</td>\n",
       "      <td>26</td>\n",
       "      <td>456</td>\n",
       "      <td>40</td>\n",
       "      <td>2024</td>\n",
       "      <td>Not completed</td>\n",
       "      <td>NaN</td>\n",
       "      <td>37.870434</td>\n",
       "      <td>-122.266083</td>\n",
       "      <td>True</td>\n",
       "    </tr>\n",
       "    <tr>\n",
       "      <th>3</th>\n",
       "      <td>2190 Shattuck</td>\n",
       "      <td>2190 Shattuck Ave, Berkeley, CA 94704</td>\n",
       "      <td>NaN</td>\n",
       "      <td>25</td>\n",
       "      <td>326</td>\n",
       "      <td>32</td>\n",
       "      <td>2023</td>\n",
       "      <td>Not completed</td>\n",
       "      <td>Controversial design as opponents worry it cou...</td>\n",
       "      <td>37.869482</td>\n",
       "      <td>-122.268668</td>\n",
       "      <td>True</td>\n",
       "    </tr>\n",
       "    <tr>\n",
       "      <th>4</th>\n",
       "      <td>2029 University</td>\n",
       "      <td>2029 University Ave, Berkeley, CA 94704</td>\n",
       "      <td>Existing non-landmarked 2-story commercial str...</td>\n",
       "      <td>23</td>\n",
       "      <td>240</td>\n",
       "      <td>36</td>\n",
       "      <td>Not yet approved</td>\n",
       "      <td>Not completed</td>\n",
       "      <td>Currently under review.</td>\n",
       "      <td>37.872126</td>\n",
       "      <td>-122.269960</td>\n",
       "      <td>True</td>\n",
       "    </tr>\n",
       "  </tbody>\n",
       "</table>\n",
       "</div>"
      ],
      "text/plain": [
       "               Name                                  Address  \\\n",
       "0       2344 Fulton       2344 Fulton St, Berkeley, CA 94704   \n",
       "1     1974 Shattuck          1974 Shattuck Ave, Berkeley, CA   \n",
       "2           The Hub       2128 Oxford St, Berkeley, CA 94704   \n",
       "3     2190 Shattuck    2190 Shattuck Ave, Berkeley, CA 94704   \n",
       "4  2029 University   2029 University Ave, Berkeley, CA 94704   \n",
       "\n",
       "                                 Required Demolition  Stories  Total Units  \\\n",
       "0                                                NaN  Unknown           18   \n",
       "1  Five commercial buildings; merge four lots. In...       28          599   \n",
       "2  Two buildings (one mixed-use with 16 rent-cont...       26          456   \n",
       "3                                                NaN       25          326   \n",
       "4  Existing non-landmarked 2-story commercial str...       23          240   \n",
       "\n",
       "  Below Market Rate Units Year City Approved Year Building Completed  \\\n",
       "0             None listed   Not yet approved           Not completed   \n",
       "1                      58               2025           Not completed   \n",
       "2                      40               2024           Not completed   \n",
       "3                      32               2023           Not completed   \n",
       "4                      36   Not yet approved           Not completed   \n",
       "\n",
       "                                               Notes   Latitude   Longitude  \\\n",
       "0              Pre-application request under review.  37.866180 -122.265898   \n",
       "1  Tallest proposed building in Berkeley so far. ...  37.872623 -122.268800   \n",
       "2                                                NaN  37.870434 -122.266083   \n",
       "3  Controversial design as opponents worry it cou...  37.869482 -122.268668   \n",
       "4                            Currently under review.  37.872126 -122.269960   \n",
       "\n",
       "   Incomplete Project?  \n",
       "0                 True  \n",
       "1                 True  \n",
       "2                 True  \n",
       "3                 True  \n",
       "4                 True  "
      ]
     },
     "execution_count": 26,
     "metadata": {},
     "output_type": "execute_result"
    }
   ],
   "source": [
    "# List of columns to revert in df\n",
    "columns_to_revert = [\n",
    "    \"Stories\",\n",
    "    \"Total Units\",\n",
    "    \"Below Market Rate Units\",\n",
    "    \"Year City Approved\",\n",
    "    \"Year Building Completed\"\n",
    "]\n",
    "\n",
    "# Assigning the values from df_original to df for those columns\n",
    "df[columns_to_revert] = df_original[columns_to_revert]\n",
    "\n",
    "df.head()\n"
   ]
  },
  {
   "cell_type": "markdown",
   "id": "5132c12b",
   "metadata": {},
   "source": [
    "Sweet! There was probably a better way to do that, but I'm going to export this csv now."
   ]
  },
  {
   "cell_type": "code",
   "execution_count": 27,
   "id": "f2b78db6",
   "metadata": {},
   "outputs": [],
   "source": [
    "df.to_csv(\"geocoded_housing_projects.csv\", index=False)"
   ]
  }
 ],
 "metadata": {
  "kernelspec": {
   "display_name": "3.12.10",
   "language": "python",
   "name": "python3"
  },
  "language_info": {
   "codemirror_mode": {
    "name": "ipython",
    "version": 3
   },
   "file_extension": ".py",
   "mimetype": "text/x-python",
   "name": "python",
   "nbconvert_exporter": "python",
   "pygments_lexer": "ipython3",
   "version": "3.12.10"
  }
 },
 "nbformat": 4,
 "nbformat_minor": 5
}
