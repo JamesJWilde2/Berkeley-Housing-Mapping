{
 "cells": [
  {
   "cell_type": "markdown",
   "id": "c3f688df",
   "metadata": {},
   "source": [
    "# Scraping meeting minutes since the start of 2019 from the Berkeley Zoning Adjustments Board"
   ]
  },
  {
   "cell_type": "code",
   "execution_count": null,
   "id": "4ef1deba",
   "metadata": {},
   "outputs": [],
   "source": [
    "import os\n",
    "import time\n",
    "import requests\n",
    "from bs4 import BeautifulSoup\n",
    "from urllib.parse import urljoin\n",
    "\n",
    "BASE_URL = \"https://berkeleyca.gov\"\n",
    "PAGE_URL_TEMPLATE = \"https://berkeleyca.gov/your-government/boards-commissions/zoning-adjustments-board?page={}\"\n",
    "DOWNLOAD_DIR = \"zab_minutes_pdfs\"\n",
    "NUM_PAGES = 9  # pages 0 through 8\n",
    "\n",
    "# Create directory if it doesn't exist\n",
    "os.makedirs(DOWNLOAD_DIR, exist_ok=True)\n",
    "\n",
    "for page in range(NUM_PAGES):\n",
    "    print(f\"\\nScraping page {page + 1} of {NUM_PAGES}\")\n",
    "    url = PAGE_URL_TEMPLATE.format(page)\n",
    "    try:\n",
    "        resp = requests.get(url)\n",
    "        resp.raise_for_status()\n",
    "    except Exception as e:\n",
    "        print(f\"Failed to fetch page {page}: {e}\")\n",
    "        continue\n",
    "\n",
    "    soup = BeautifulSoup(resp.content, \"html.parser\")\n",
    "    rows = soup.find_all(\"tr\", class_=\"table-expand-row-content\")\n",
    "\n",
    "    found_any = False\n",
    "    for row in rows:\n",
    "        minutes_links = row.find_all(\"a\", string=\"Minutes\")\n",
    "        for link in minutes_links:\n",
    "            relative_url = link.get(\"href\")\n",
    "            if relative_url:\n",
    "                full_url = urljoin(BASE_URL, relative_url)\n",
    "                filename = os.path.basename(relative_url.split(\"?\")[0])\n",
    "                save_path = os.path.join(DOWNLOAD_DIR, filename)\n",
    "\n",
    "                print(f\"Downloading {filename}\")\n",
    "                try:\n",
    "                    pdf_resp = requests.get(full_url)\n",
    "                    pdf_resp.raise_for_status()\n",
    "                    with open(save_path, \"wb\") as f:\n",
    "                        f.write(pdf_resp.content)\n",
    "                    found_any = True\n",
    "                    time.sleep(1)  # being polite to the server\n",
    "                except Exception as e:\n",
    "                    print(f\"Error downloading {full_url}: {e}\")\n",
    "    if not found_any:\n",
    "        print(\"No 'Minutes' PDFs found on this page.\")\n"
   ]
  }
 ],
 "metadata": {
  "kernelspec": {
   "display_name": "3.12.10",
   "language": "python",
   "name": "python3"
  },
  "language_info": {
   "codemirror_mode": {
    "name": "ipython",
    "version": 3
   },
   "file_extension": ".py",
   "mimetype": "text/x-python",
   "name": "python",
   "nbconvert_exporter": "python",
   "pygments_lexer": "ipython3",
   "version": "3.12.10"
  }
 },
 "nbformat": 4,
 "nbformat_minor": 5
}
